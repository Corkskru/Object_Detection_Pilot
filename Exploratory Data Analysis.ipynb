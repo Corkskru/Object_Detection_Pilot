{
 "cells": [
  {
   "cell_type": "markdown",
   "metadata": {},
   "source": [
    "# Explore the dataset\n",
    "\n",
    "\n",
    "In this notebook, we will perform an EDA (Exploratory Data Analysis) on the processed Waymo dataset (data in the `processed` folder). In the first part, you will create a function to display "
   ]
  },
  {
   "cell_type": "code",
   "execution_count": 7,
   "metadata": {},
   "outputs": [
    {
     "name": "stdout",
     "output_type": "stream",
     "text": [
      "2.3.0\n"
     ]
    }
   ],
   "source": [
    "from utils import get_dataset\n",
    "import glob\n",
    "import matplotlib.pyplot as plt\n",
    "import matplotlib.patches as patches\n",
    "import numpy as np\n",
    "import tensorflow as tf\n",
    "\n",
    "from PIL import Image as im\n",
    "\n",
    "%matplotlib inline\n",
    "print(tf.__version__)"
   ]
  },
  {
   "cell_type": "code",
   "execution_count": 8,
   "metadata": {},
   "outputs": [
    {
     "name": "stdout",
     "output_type": "stream",
     "text": [
      "INFO:tensorflow:Reading unweighted datasets: ['/home/workspace/data/train/*.tfrecord']\n",
      "INFO:tensorflow:Reading record datasets for input file: ['/home/workspace/data/train/*.tfrecord']\n",
      "INFO:tensorflow:Number of filenames to read: 86\n",
      "WARNING:tensorflow:From /data/virtual_envs/sdc-c1-gpu-augment/lib/python3.7/site-packages/object_detection/builders/dataset_builder.py:105: parallel_interleave (from tensorflow.python.data.experimental.ops.interleave_ops) is deprecated and will be removed in a future version.\n",
      "Instructions for updating:\n",
      "Use `tf.data.Dataset.interleave(map_func, cycle_length, block_length, num_parallel_calls=tf.data.experimental.AUTOTUNE)` instead. If sloppy execution is desired, use `tf.data.Options.experimental_deterministic`.\n",
      "WARNING:tensorflow:From /data/virtual_envs/sdc-c1-gpu-augment/lib/python3.7/site-packages/object_detection/builders/dataset_builder.py:237: DatasetV1.map_with_legacy_function (from tensorflow.python.data.ops.dataset_ops) is deprecated and will be removed in a future version.\n",
      "Instructions for updating:\n",
      "Use `tf.data.Dataset.map()\n",
      "<DatasetV1Adapter shapes: {image: (None, None, 3), source_id: (), key: (), filename: (), groundtruth_image_confidences: (None,), groundtruth_verified_neg_classes: (None,), groundtruth_not_exhaustive_classes: (None,), groundtruth_boxes: (None, 4), groundtruth_area: (None,), groundtruth_is_crowd: (None,), groundtruth_difficult: (None,), groundtruth_group_of: (None,), groundtruth_weights: (None,), groundtruth_classes: (None,), groundtruth_image_classes: (None,), original_image_spatial_shape: (2,)}, types: {image: tf.uint8, source_id: tf.string, key: tf.string, filename: tf.string, groundtruth_image_confidences: tf.float32, groundtruth_verified_neg_classes: tf.int64, groundtruth_not_exhaustive_classes: tf.int64, groundtruth_boxes: tf.float32, groundtruth_area: tf.float32, groundtruth_is_crowd: tf.bool, groundtruth_difficult: tf.int64, groundtruth_group_of: tf.bool, groundtruth_weights: tf.float32, groundtruth_classes: tf.int64, groundtruth_image_classes: tf.int64, original_image_spatial_shape: tf.int32}>\n"
     ]
    }
   ],
   "source": [
    "dataset = get_dataset(\"/home/workspace/data/train/*.tfrecord\")\n",
    "print(dataset)"
   ]
  },
  {
   "cell_type": "markdown",
   "metadata": {},
   "source": [
    "## Write a function to display an image and the bounding boxes\n",
    "\n",
    "Implement the `display_images` function below. This function takes a batch as an input and display an image with its corresponding bounding boxes. The only requirement is that the classes should be color coded (eg, vehicles in red, pedestrians in blue, cyclist in green)."
   ]
  },
  {
   "cell_type": "code",
   "execution_count": 13,
   "metadata": {},
   "outputs": [],
   "source": [
    "img_number = 0\n",
    "#def create_images(batch):\n",
    "#    global img_number\n",
    " #   img = batch[\"image\"].numpy()\n",
    "  #  data = im.fromarray(img)\n",
    "  #  data.save(\"/home/workspace/data/train_images/image_\"+str(img_number)+\".png\")\n",
    "  #  img_number+=1\n",
    "    \n",
    "def display_images(batch):\n",
    "    # TODO - Your implementation here\n",
    "    #ds = dataset.unbatch()\n",
    "    #ds = dataset.batch(batch_size)\n",
    "    \n",
    "    #get a color code going for faster lookups\n",
    "    dict = {1:'red', 2:'blue', 4:'green'}\n",
    "    fig,ax = plt.subplots()\n",
    "    img = batch[\"image\"].numpy()\n",
    "    ax.imshow(img)\n",
    "    \n",
    "    \n",
    "    for bboxes,labels in zip(batch[\"groundtruth_boxes\"].numpy(),batch[\"groundtruth_classes\"].numpy()):\n",
    "        #y1,x1,y2,x2 format \n",
    "        #print(bboxes)\n",
    "        xy = (bboxes[1]*img.shape[1], bboxes[0]*img.shape[0])\n",
    "        w= (bboxes[3] - bboxes[1])*img.shape[1]\n",
    "        h= (bboxes[2] - bboxes[0])*img.shape[0]\n",
    "        rect = patches.Rectangle(xy, w, h, linewidth=1, edgecolor=dict[labels], facecolor='none')\n",
    "        ax.add_patch(rect)\n",
    "    \n",
    "    #write/save the images to folder for EDA\n",
    "    #fig.savefig(\"/home/workspace/data/train_images/image_\"+str(img_number)+\".png\", dpi=300)\n",
    "    #img_number+=1\n",
    "    plt.axis(\"off\")\n",
    "    "
   ]
  },
  {
   "cell_type": "code",
   "execution_count": 39,
   "metadata": {},
   "outputs": [],
   "source": [
    "\n"
   ]
  },
  {
   "cell_type": "markdown",
   "metadata": {},
   "source": [
    "## Display 10 images \n",
    "\n",
    "Using the dataset created in the second cell and the function you just coded, display 10 random images with the associated bounding boxes. You can use the methods `take` and `shuffle` on the dataset."
   ]
  },
  {
   "cell_type": "code",
   "execution_count": 34,
   "metadata": {},
   "outputs": [],
   "source": [
    "#plot the graph of classes distribution\n",
    "#start with num of cars vs num of images\n",
    "\n",
    "def car_img_distribution(batch):\n",
    "    num_of_cars = 0\n",
    "    #img = batch[\"image\"].numpy()\n",
    "    #print(batch[\"groundtruth_classes\"].numpy())\n",
    "    for b in batch[\"groundtruth_classes\"].numpy():\n",
    "        if b == 1:\n",
    "            num_of_cars += 1\n",
    "    return num_of_cars\n",
    "\n",
    "            \n",
    "\n",
    "            \n",
    "    \n",
    "\n",
    "    \n",
    "    "
   ]
  },
  {
   "cell_type": "markdown",
   "metadata": {},
   "source": [
    "## Additional EDA\n",
    "\n",
    "In this last part, you are free to perform any additional analysis of the dataset. What else would like to know about the data?\n",
    "For example, think about data distribution. So far, you have only looked at a single file..."
   ]
  },
  {
   "cell_type": "code",
   "execution_count": 50,
   "metadata": {},
   "outputs": [
    {
     "name": "stdout",
     "output_type": "stream",
     "text": [
      "[19, 6, 31, 17, 27, 29, 21, 6, 17, 16, 16, 10, 4, 0, 0, 10, 33, 31, 11, 10]\n"
     ]
    },
    {
     "data": {
      "text/plain": [
       "Text(0, 0.5, 'num of images')"
      ]
     },
     "execution_count": 50,
     "metadata": {},
     "output_type": "execute_result"
    },
    {
     "data": {
      "image/png": "[encoded data removed]",
      "text/plain": [
       "<Figure size 432x288 with 1 Axes>"
      ]
     },
     "metadata": {
      "needs_background": "light"
     },
     "output_type": "display_data"
    }
   ],
   "source": [
    "\n",
    "\n",
    "# Display 10 random images in dataset\n",
    "#plt.figure(figsize=(20, 20))\n",
    "num_of_images = 20\n",
    "cars = []\n",
    "for batch in dataset.take(num_of_images):\n",
    "    car_num = car_img_distribution(batch)\n",
    "    cars.append(car_num)\n",
    "    \n",
    "    #display_images(batch)\n",
    "    #create_images(batch)\n",
    "\n",
    "print(cars)\n",
    "plt.plot(cars, range(num_of_images))     \n",
    "plt.xlabel(\"num of cars\")\n",
    "plt.ylabel(\"num of images\")"
   ]
  },
  {
   "cell_type": "code",
   "execution_count": null,
   "metadata": {},
   "outputs": [],
   "source": []
  }
 ],
 "metadata": {
  "kernelspec": {
   "display_name": "Python 3",
   "language": "python",
   "name": "python3"
  },
  "language_info": {
   "codemirror_mode": {
    "name": "ipython",
    "version": 3
   },
   "file_extension": ".py",
   "mimetype": "text/x-python",
   "name": "python",
   "nbconvert_exporter": "python",
   "pygments_lexer": "ipython3",
   "version": "3.7.3"
  }
 },
 "nbformat": 4,
 "nbformat_minor": 4
}
